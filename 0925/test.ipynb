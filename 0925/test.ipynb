{
 "cells": [
  {
   "cell_type": "code",
   "execution_count": 1,
   "id": "3b952b72",
   "metadata": {},
   "outputs": [
    {
     "name": "stdout",
     "output_type": "stream",
     "text": [
      "C:\\source\\.venv\\Scripts\\python.exe\n",
      "Jupyter OK\n"
     ]
    }
   ],
   "source": [
    "import sys, jupyter_client, ipykernel, zmq\n",
    "print(sys.executable)\n",
    "print(\"Jupyter OK\")"
   ]
  }
 ],
 "metadata": {
  "kernelspec": {
   "display_name": "Python 3 (ipykernel)",
   "language": "python",
   "name": "python3"
  }
 },
 "nbformat": 4,
 "nbformat_minor": 5
}
