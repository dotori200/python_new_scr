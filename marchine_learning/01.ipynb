{
 "cells": [
  {
   "cell_type": "code",
   "execution_count": null,
   "id": "3f34fa36",
   "metadata": {},
   "outputs": [],
   "source": [
    "# 데이터 전처리\n",
    "    # 결측치 : 제거하거나 대처 (평균 중위수 주변데이터를 이용.. 다양한 알고리즘)\n",
    "    # 클래스 불균형 : over sampling, down sampling, SMOTE SMOTEEN\n",
    "# 데이터 특성공학 : 연속형 -> 범주형, 시간정보는 \n",
    "    # 범주형 -> 숫자와 숫자 사이에 연관성이 있으면 학습\n",
    "    # 연관성이 전혀 없는 범주형 라벨링 -> onehot\n",
    "    # 범주형이지만 순서나 크기가 있는 범주형은 라벨링 그대로 유지\n",
    "\n",
    "# 머신러닝\n",
    "# 1. 지도학습\n",
    "    # 회귀\n",
    "        # linearRegression (선형회귀), \n",
    "    # 분류\n",
    "        # SVM, Kneighbors, DecisionTree(지니계수 이용)\n",
    "# 2. 비지도 학습\n",
    "    # 클러스터\n",
    "        # kmeans dbscan\n"
   ]
  }
 ],
 "metadata": {
  "language_info": {
   "name": "python"
  }
 },
 "nbformat": 4,
 "nbformat_minor": 5
}
