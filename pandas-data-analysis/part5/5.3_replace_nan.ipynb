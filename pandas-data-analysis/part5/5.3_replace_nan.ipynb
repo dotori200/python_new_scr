{
 "cells": [
  {
   "cell_type": "code",
   "execution_count": 3,
   "id": "bb12202f-d4dd-41d5-b8bd-f4c78b69b0f9",
   "metadata": {
    "tags": []
   },
   "outputs": [
    {
     "data": {
      "text/plain": [
       "0    22.0\n",
       "1    38.0\n",
       "2    26.0\n",
       "3    35.0\n",
       "4    35.0\n",
       "5     NaN\n",
       "6    54.0\n",
       "7     2.0\n",
       "8    27.0\n",
       "9    14.0\n",
       "Name: age, dtype: float64"
      ]
     },
     "execution_count": 3,
     "metadata": {},
     "output_type": "execute_result"
    }
   ],
   "source": [
    "# 라이브러리 불러오기\n",
    "import seaborn as sns\n",
    "\n",
    "# titanic 데이터셋 가져오기\n",
    "df = sns.load_dataset('titanic')\n",
    "\n",
    "# age 열의 첫 10개 데이터 출력 (5 행에 NaN 값)\n",
    "df['age'].head(10)"
   ]
  },
  {
   "cell_type": "code",
   "execution_count": 4,
   "id": "7a21ad38-b390-49c1-950b-3285d34890ca",
   "metadata": {
    "tags": []
   },
   "outputs": [
    {
     "data": {
      "text/plain": [
       "0    22.000000\n",
       "1    38.000000\n",
       "2    26.000000\n",
       "3    35.000000\n",
       "4    35.000000\n",
       "5    29.699118\n",
       "6    54.000000\n",
       "7     2.000000\n",
       "8    27.000000\n",
       "9    14.000000\n",
       "Name: age, dtype: float64"
      ]
     },
     "execution_count": 4,
     "metadata": {},
     "output_type": "execute_result"
    }
   ],
   "source": [
    "# age 열의 NaN값을 다른 나이 데이터의 평균으로 변경하기\n",
    "mean_age = df['age'].mean(axis=0)   # age 열의 평균 계산 (NaN 값 제외)\n",
    "df['age'] = df['age'].fillna(mean_age)\n",
    "\n",
    "# age 열의 첫 10개 데이터 출력 (5 행에 NaN 값이 평균으로 대체)\n",
    "df['age'].head(10)"
   ]
  },
  {
   "cell_type": "code",
   "execution_count": null,
   "id": "725fac04",
   "metadata": {},
   "outputs": [
    {
     "data": {
      "text/plain": [
       "0      26.507589\n",
       "1      34.611765\n",
       "2      21.750000\n",
       "3      34.611765\n",
       "4      26.507589\n",
       "         ...    \n",
       "886    30.740707\n",
       "887    34.611765\n",
       "888    21.750000\n",
       "889    41.281386\n",
       "890    26.507589\n",
       "Name: age, Length: 891, dtype: float64"
      ]
     },
     "execution_count": 5,
     "metadata": {},
     "output_type": "execute_result"
    }
   ],
   "source": [
    "df=sns.load_dataset('titanic')\n",
    "# 객실별 성별에 따른 평균값으로 해당 결측치를 대처  --> transform 메서드\n",
    "df.groupby(['pclass','sex'])['age'].transform('mean')"
   ]
  },
  {
   "cell_type": "code",
   "execution_count": null,
   "id": "8d9f8c77",
   "metadata": {},
   "outputs": [],
   "source": [
    "# 평균 VS 중위수 어떤 기준으로 선택\n",
    "# 평균\n",
    "    # 이상치 비중이 낮을 때\n",
    "# 중위수\n",
    "    # 이상치 비중이 높을 때\n",
    "# 결측치가 많을 때 (50% 이상) \n",
    "    # 결측치를 버릴 수 없는 이유 : 데이터가 많을수록 머신러닝의 성능이 조금이라도 좋아지기 때문\n",
    "    # 머신러닝/딥러닝 기반의 보간을 고려한 것\n",
    "\n",
    "import matplotlib.pyplot as plt\n",
    "plt.boxplot"
   ]
  },
  {
   "cell_type": "code",
   "execution_count": 9,
   "id": "a45ee439",
   "metadata": {},
   "outputs": [
    {
     "name": "stdout",
     "output_type": "stream",
     "text": [
      "     survived  pclass     sex   age  sibsp  parch     fare embarked   class  \\\n",
      "0           0       3    male  22.0      1      0   7.2500        S   Third   \n",
      "1           1       1  female  38.0      1      0  71.2833        C   First   \n",
      "2           1       3  female  26.0      0      0   7.9250        S   Third   \n",
      "3           1       1  female  35.0      1      0  53.1000        S   First   \n",
      "4           0       3    male  35.0      0      0   8.0500        S   Third   \n",
      "..        ...     ...     ...   ...    ...    ...      ...      ...     ...   \n",
      "885         0       3  female  39.0      0      5  29.1250        Q   Third   \n",
      "886         0       2    male  27.0      0      0  13.0000        S  Second   \n",
      "887         1       1  female  19.0      0      0  30.0000        S   First   \n",
      "889         1       1    male  26.0      0      0  30.0000        C   First   \n",
      "890         0       3    male  32.0      0      0   7.7500        Q   Third   \n",
      "\n",
      "       who  adult_male deck  embark_town alive  alone  \n",
      "0      man        True  NaN  Southampton    no  False  \n",
      "1    woman       False    C    Cherbourg   yes  False  \n",
      "2    woman       False  NaN  Southampton   yes   True  \n",
      "3    woman       False    C  Southampton   yes  False  \n",
      "4      man        True  NaN  Southampton    no   True  \n",
      "..     ...         ...  ...          ...   ...    ...  \n",
      "885  woman       False  NaN   Queenstown    no  False  \n",
      "886    man        True  NaN  Southampton    no   True  \n",
      "887  woman       False    B  Southampton   yes   True  \n",
      "889    man        True    C    Cherbourg   yes   True  \n",
      "890    man        True  NaN   Queenstown    no   True  \n",
      "\n",
      "[703 rows x 15 columns]\n"
     ]
    },
    {
     "data": {
      "text/plain": [
       "<Axes: >"
      ]
     },
     "execution_count": 9,
     "metadata": {},
     "output_type": "execute_result"
    },
    {
     "data": {
      "image/png": "[encoded data removed]",
      "text/plain": [
       "<Figure size 640x480 with 1 Axes>"
      ]
     },
     "metadata": {},
     "output_type": "display_data"
    }
   ],
   "source": [
    "q1 = df['age'].quantile(0.25)\n",
    "q3 = df['age'].quantile(0.75)\n",
    "iqr  = q3 - q1\n",
    "lower = q1 - iqr*1.5\n",
    "upper = q3 + iqr*1.5\n",
    "outlier_mask = (df['age'] >= lower) & (df['age'] <= upper)\n",
    "print(df[outlier_mask])\n",
    "df[outlier_mask]['age'].plot(kind='box')\n",
    "\n"
   ]
  },
  {
   "cell_type": "code",
   "execution_count": null,
   "id": "461d6d2d",
   "metadata": {},
   "outputs": [],
   "source": [
    "# rel_diff = abs(mean-median) / (abs(median) +1e-8)\n",
    "# 델타 = 상대적 평균 - 중앙값의 차이\n",
    "    # 평균이 중앙값에서 얼마나 떨어져있는지를 상대적으로 본 값 \n",
    "    # 델타가 크면 분포가 치우쳐져 있거나 또는 outlier(이상치) 평균을 끌어당긴다.\n",
    "# 세타 = 이상치 비율(IQR기준)\n",
    "    # IQR = Q3 - Q1  / 이상치 = (Q1-1.5*IQR ~ Q3+1.5*IQR)\n",
    "# 관측치 중 IQR기준으로 이상치에 해당하는 값이 차지하는 비율(세타) 값이 크다 -> 평균이 불안정\n",
    "\n",
    "# outlier_frac 이상치 비율 = 이상치 개수/데이터 개수\n",
    "\n",
    "# rel_diff < 델타 and outlier_frac < 세타 :\n",
    "# mean 평균\n",
    "# else\n",
    "# median 중앙값\n",
    "# 델타와 세타에 해당하는 값은 \n",
    "# 보수적(이상치에 민감) 델타 0.05(5%) 세타 0.01(1%)\n",
    "# 보통(추천**) 델타 0.08~0.10   세타 0.02~0.03\n",
    "# 관대 (어느정도 편차는 허용) 델타 0.15   세타 0.05"
   ]
  },
  {
   "cell_type": "code",
   "execution_count": 11,
   "id": "8f2a11ea",
   "metadata": {},
   "outputs": [
    {
     "name": "stdout",
     "output_type": "stream",
     "text": [
      "100.0\n",
      "0.01\n"
     ]
    }
   ],
   "source": [
    "print(1e2)\n",
    "print(1e-2)"
   ]
  },
  {
   "cell_type": "code",
   "execution_count": 23,
   "id": "d57ece9f",
   "metadata": {},
   "outputs": [
    {
     "ename": "ValueError",
     "evalue": "The truth value of a Series is ambiguous. Use a.empty, a.bool(), a.item(), a.any() or a.all().",
     "output_type": "error",
     "traceback": [
      "\u001b[31m---------------------------------------------------------------------------\u001b[39m",
      "\u001b[31mValueError\u001b[39m                                Traceback (most recent call last)",
      "\u001b[36mCell\u001b[39m\u001b[36m \u001b[39m\u001b[32mIn[23]\u001b[39m\u001b[32m, line 17\u001b[39m\n\u001b[32m     15\u001b[39m outlier_frac = ((titanic[\u001b[33m'\u001b[39m\u001b[33mage\u001b[39m\u001b[33m'\u001b[39m] < lower) | (titanic[\u001b[33m'\u001b[39m\u001b[33mage\u001b[39m\u001b[33m'\u001b[39m] > upper))\n\u001b[32m     16\u001b[39m delta, setha = \u001b[32m0.08\u001b[39m, \u001b[32m0.02\u001b[39m\n\u001b[32m---> \u001b[39m\u001b[32m17\u001b[39m \u001b[38;5;28;01mif\u001b[39;00m rel_diff < delta \u001b[38;5;129;01mand\u001b[39;00m \u001b[43moutlier_frac\u001b[49m\u001b[43m \u001b[49m\u001b[43m<\u001b[49m\u001b[43m \u001b[49m\u001b[43msetha\u001b[49m :\n\u001b[32m     18\u001b[39m     \u001b[38;5;28mprint\u001b[39m(\u001b[33m'\u001b[39m\u001b[33mmean\u001b[39m\u001b[33m'\u001b[39m)\n\u001b[32m     19\u001b[39m \u001b[38;5;28;01melse\u001b[39;00m:\n",
      "\u001b[36mFile \u001b[39m\u001b[32mc:\\source\\.venv\\Lib\\site-packages\\pandas\\core\\generic.py:1577\u001b[39m, in \u001b[36mNDFrame.__nonzero__\u001b[39m\u001b[34m(self)\u001b[39m\n\u001b[32m   1575\u001b[39m \u001b[38;5;129m@final\u001b[39m\n\u001b[32m   1576\u001b[39m \u001b[38;5;28;01mdef\u001b[39;00m\u001b[38;5;250m \u001b[39m\u001b[34m__nonzero__\u001b[39m(\u001b[38;5;28mself\u001b[39m) -> NoReturn:\n\u001b[32m-> \u001b[39m\u001b[32m1577\u001b[39m     \u001b[38;5;28;01mraise\u001b[39;00m \u001b[38;5;167;01mValueError\u001b[39;00m(\n\u001b[32m   1578\u001b[39m         \u001b[33mf\u001b[39m\u001b[33m\"\u001b[39m\u001b[33mThe truth value of a \u001b[39m\u001b[38;5;132;01m{\u001b[39;00m\u001b[38;5;28mtype\u001b[39m(\u001b[38;5;28mself\u001b[39m).\u001b[34m__name__\u001b[39m\u001b[38;5;132;01m}\u001b[39;00m\u001b[33m is ambiguous. \u001b[39m\u001b[33m\"\u001b[39m\n\u001b[32m   1579\u001b[39m         \u001b[33m\"\u001b[39m\u001b[33mUse a.empty, a.bool(), a.item(), a.any() or a.all().\u001b[39m\u001b[33m\"\u001b[39m\n\u001b[32m   1580\u001b[39m     )\n",
      "\u001b[31mValueError\u001b[39m: The truth value of a Series is ambiguous. Use a.empty, a.bool(), a.item(), a.any() or a.all()."
     ]
    }
   ],
   "source": [
    "import seaborn as sns\n",
    "titanic = sns.load_dataset('titanic')\n",
    "titanic = titanic.dropna(subset=['age']) \n",
    "mean = titanic['age'].mean()\n",
    "median = titanic['age'].median()\n",
    "# 상대 차이\n",
    "rel_diff = abs(mean-median) / abs(median)+1e-8\n",
    "# 이상치 비율 계산 이상치 개수 / 전체 개수\n",
    "# q1-1.5iqr ~ q3+1.5iqr\n",
    "q1 = df['age'].quantile(0.25)\n",
    "q3 = df['age'].quantile(0.75)\n",
    "iqr  = q3 - q1\n",
    "lower = q1 - iqr*1.5\n",
    "upper = q3 + iqr*1.5\n",
    "outlier_frac = ((titanic['age'] < lower) | (titanic['age'] > upper))\n",
    "delta, setha = 0.08, 0.02\n",
    "if rel_diff < delta and outlier_frac < setha :\n",
    "    print('mean')\n",
    "else:\n",
    "    print('median')\n"
   ]
  }
 ],
 "metadata": {
  "kernelspec": {
   "display_name": ".venv",
   "language": "python",
   "name": "python3"
  },
  "language_info": {
   "codemirror_mode": {
    "name": "ipython",
    "version": 3
   },
   "file_extension": ".py",
   "mimetype": "text/x-python",
   "name": "python",
   "nbconvert_exporter": "python",
   "pygments_lexer": "ipython3",
   "version": "3.13.7"
  }
 },
 "nbformat": 4,
 "nbformat_minor": 5
}
