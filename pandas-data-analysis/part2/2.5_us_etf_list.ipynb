{
 "cells": [
  {
   "cell_type": "code",
   "execution_count": 6,
   "metadata": {},
   "outputs": [
    {
     "name": "stdout",
     "output_type": "stream",
     "text": [
      "Note: you may need to restart the kernel to use updated packages.\n"
     ]
    },
    {
     "name": "stderr",
     "output_type": "stream",
     "text": [
      "ERROR: Could not find a version that satisfies the requirement parser (from versions: none)\n",
      "ERROR: No matching distribution found for parser\n"
     ]
    }
   ],
   "source": [
    "%pip install parser"
   ]
  },
  {
   "cell_type": "code",
   "execution_count": 9,
   "metadata": {},
   "outputs": [
    {
     "name": "stdout",
     "output_type": "stream",
     "text": [
      "Requirement already satisfied: lxml in c:\\source\\.venv\\lib\\site-packages (6.0.2)\n",
      "Note: you may need to restart the kernel to use updated packages.\n"
     ]
    }
   ],
   "source": [
    "%pip install lxml"
   ]
  },
  {
   "cell_type": "code",
   "execution_count": 1,
   "metadata": {
    "executionInfo": {
     "elapsed": 2337,
     "status": "ok",
     "timestamp": 1706180950836,
     "user": {
      "displayName": "Steve",
      "userId": "13015281013241816762"
     },
     "user_tz": -540
    },
    "id": "PSJ0UQVYOkXc",
    "tags": []
   },
   "outputs": [],
   "source": [
    "# 라이브러리 불러오기\n",
    "from bs4 import BeautifulSoup\n",
    "import requests\n",
    "import re\n",
    "import pandas as pd"
   ]
  },
  {
   "cell_type": "code",
   "execution_count": 8,
   "metadata": {},
   "outputs": [
    {
     "ename": "TypeError",
     "evalue": "RobotFileParser.set_url() missing 1 required positional argument: 'url'",
     "output_type": "error",
     "traceback": [
      "\u001b[31m---------------------------------------------------------------------------\u001b[39m",
      "\u001b[31mTypeError\u001b[39m                                 Traceback (most recent call last)",
      "\u001b[36mCell\u001b[39m\u001b[36m \u001b[39m\u001b[32mIn[8]\u001b[39m\u001b[32m, line 5\u001b[39m\n\u001b[32m      3\u001b[39m rp = urllib.robotparser.RobotFileParser\n\u001b[32m      4\u001b[39m url = \u001b[33m\"\u001b[39m\u001b[33mhttp://www.hollys.co.kr\u001b[39m\u001b[33m\"\u001b[39m\n\u001b[32m----> \u001b[39m\u001b[32m5\u001b[39m \u001b[43mrp\u001b[49m\u001b[43m.\u001b[49m\u001b[43mset_url\u001b[49m\u001b[43m(\u001b[49m\u001b[33;43m\"\u001b[39;49m\u001b[33;43mhttp://www.hollys.co.kr\u001b[39;49m\u001b[33;43m\"\u001b[39;49m\u001b[43m)\u001b[49m\n\u001b[32m      6\u001b[39m rp.read()\n",
      "\u001b[31mTypeError\u001b[39m: RobotFileParser.set_url() missing 1 required positional argument: 'url'"
     ]
    }
   ],
   "source": [
    "# 크롤링 가능 여부 확인\n",
    "import urllib.robotparser\n",
    "rp = urllib.robotparser.RobotFileParser\n",
    "url = \"http://www.hollys.co.kr\"\n",
    "rp.set_url(\"http://www.hollys.co.kr\")\n",
    "rp.read()\n"
   ]
  },
  {
   "cell_type": "code",
   "execution_count": 3,
   "metadata": {
    "tags": []
   },
   "outputs": [
    {
     "name": "stdout",
     "output_type": "stream",
     "text": [
      "iShares Core S&P Total US Stock Mkt (NYSE Arca: ITOT)\n",
      "iShares MSCI ACWI Index (Nasdaq: ACWI)\n",
      "iShares Russell 3000 Index (NYSE Arca: IWV)\n",
      "Schwab US Broad Market ETF (NYSE Arca: SCHB)\n",
      "Schwab Fundamental U.S. Broad Market Index ETF (NYSE Arca: FNDB)\n",
      "Vanguard Total World Stock (NYSE Arca: VT), tracks the FTSE All-World Index\n",
      "Vanguard Total Stock Market (NYSE Arca: VTI), tracks the MSCI US Broad Market Index\n",
      "Vanguard Total International Stock (NYSE Arca: VXUS), tracks the MSCI All Country World ex-USA Investable Market Index\n",
      "Vanguard Russell 3000 (NYSE Arca: VTHR), tracks 98% of the US market\n"
     ]
    }
   ],
   "source": [
    "# 위키피디아 미국 ETF 웹 페이지에서 필요한 정보를 스크래핑하여 딕셔너리 형태로 변수 etfs에 저장\n",
    "url = \"https://en.wikipedia.org/wiki/List_of_American_exchange-traded_funds\"\n",
    "header = {\n",
    "\"User-Agent\": \"CoolBot/0.0 (https://example.org/coolbot/; coolbot@example.org) generic-library/0.0\"\n",
    "}\n",
    "\n",
    "resp = requests.get(url, headers=header )\n",
    "soup = BeautifulSoup(resp.text, 'lxml')   \n",
    "rows = soup.select('#mw-content-text > div.mw-content-ltr.mw-parser-output > ul:nth-child(11) > li') \n",
    "for row in rows:\n",
    "    print(row.text)"
   ]
  },
  {
   "cell_type": "code",
   "execution_count": 3,
   "metadata": {
    "tags": []
   },
   "outputs": [
    {
     "name": "stdout",
     "output_type": "stream",
     "text": [
      "{'ITOT': ['NYSE\\xa0Arca', 'iShares Core S&P Total US Stock Mkt'], 'ACWI': ['Nasdaq', 'iShares MSCI ACWI Index'], 'IWV': ['NYSE\\xa0Arca', 'iShares Russell 3000 Index'], 'SCHB': ['NYSE\\xa0Arca', 'Schwab US Broad Market ETF'], 'FNDB': ['NYSE\\xa0Arca', 'Schwab Fundamental U.S. Broad Market Index ETF'], 'VT': ['NYSE\\xa0Arca', 'Vanguard Total World Stock'], 'VTI': ['NYSE\\xa0Arca', 'Vanguard Total Stock Market'], 'VXUS': ['NYSE\\xa0Arca', 'Vanguard Total International Stock'], 'VTHR': ['NYSE\\xa0Arca', 'Vanguard Russell 3000']}\n"
     ]
    }
   ],
   "source": [
    "etfs = {}\n",
    "for row in rows:\n",
    "    \n",
    "    try:\n",
    "        etf_name = re.findall(\"(.+?)\\s\\(\", row.text)\n",
    "        etf_market = re.findall(\"\\((.+?):\", row.text)\n",
    "        etf_ticker = re.findall(\":\\s(.+)\\)\", row.text)\n",
    "        \n",
    "        if (len(etf_ticker) > 0) & (len(etf_market) > 0) & (len(etf_name) > 0):\n",
    "            etfs[etf_ticker[0]] = [etf_market[0], etf_name[0]]\n",
    "\n",
    "    except AttributeError as err:\n",
    "        pass    \n",
    "\n",
    "# etfs 딕셔너리 출력\n",
    "print(etfs)"
   ]
  },
  {
   "cell_type": "code",
   "execution_count": 4,
   "metadata": {
    "tags": []
   },
   "outputs": [
    {
     "data": {
      "text/html": [
       "<div>\n",
       "<style scoped>\n",
       "    .dataframe tbody tr th:only-of-type {\n",
       "        vertical-align: middle;\n",
       "    }\n",
       "\n",
       "    .dataframe tbody tr th {\n",
       "        vertical-align: top;\n",
       "    }\n",
       "\n",
       "    .dataframe thead th {\n",
       "        text-align: right;\n",
       "    }\n",
       "</style>\n",
       "<table border=\"1\" class=\"dataframe\">\n",
       "  <thead>\n",
       "    <tr style=\"text-align: right;\">\n",
       "      <th></th>\n",
       "      <th>ITOT</th>\n",
       "      <th>ACWI</th>\n",
       "      <th>IWV</th>\n",
       "      <th>SCHB</th>\n",
       "      <th>FNDB</th>\n",
       "      <th>VT</th>\n",
       "      <th>VTI</th>\n",
       "      <th>VXUS</th>\n",
       "      <th>VTHR</th>\n",
       "    </tr>\n",
       "  </thead>\n",
       "  <tbody>\n",
       "    <tr>\n",
       "      <th>0</th>\n",
       "      <td>NYSE Arca</td>\n",
       "      <td>Nasdaq</td>\n",
       "      <td>NYSE Arca</td>\n",
       "      <td>NYSE Arca</td>\n",
       "      <td>NYSE Arca</td>\n",
       "      <td>NYSE Arca</td>\n",
       "      <td>NYSE Arca</td>\n",
       "      <td>NYSE Arca</td>\n",
       "      <td>NYSE Arca</td>\n",
       "    </tr>\n",
       "    <tr>\n",
       "      <th>1</th>\n",
       "      <td>iShares Core S&amp;P Total US Stock Mkt</td>\n",
       "      <td>iShares MSCI ACWI Index</td>\n",
       "      <td>iShares Russell 3000 Index</td>\n",
       "      <td>Schwab US Broad Market ETF</td>\n",
       "      <td>Schwab Fundamental U.S. Broad Market Index ETF</td>\n",
       "      <td>Vanguard Total World Stock</td>\n",
       "      <td>Vanguard Total Stock Market</td>\n",
       "      <td>Vanguard Total International Stock</td>\n",
       "      <td>Vanguard Russell 3000</td>\n",
       "    </tr>\n",
       "  </tbody>\n",
       "</table>\n",
       "</div>"
      ],
      "text/plain": [
       "                                  ITOT                     ACWI  \\\n",
       "0                            NYSE Arca                   Nasdaq   \n",
       "1  iShares Core S&P Total US Stock Mkt  iShares MSCI ACWI Index   \n",
       "\n",
       "                          IWV                        SCHB  \\\n",
       "0                   NYSE Arca                   NYSE Arca   \n",
       "1  iShares Russell 3000 Index  Schwab US Broad Market ETF   \n",
       "\n",
       "                                             FNDB                          VT  \\\n",
       "0                                       NYSE Arca                   NYSE Arca   \n",
       "1  Schwab Fundamental U.S. Broad Market Index ETF  Vanguard Total World Stock   \n",
       "\n",
       "                           VTI                                VXUS  \\\n",
       "0                    NYSE Arca                           NYSE Arca   \n",
       "1  Vanguard Total Stock Market  Vanguard Total International Stock   \n",
       "\n",
       "                    VTHR  \n",
       "0              NYSE Arca  \n",
       "1  Vanguard Russell 3000  "
      ]
     },
     "execution_count": 4,
     "metadata": {},
     "output_type": "execute_result"
    }
   ],
   "source": [
    "# etfs 딕셔너리를 데이터프레임으로 변환\n",
    "df = pd.DataFrame(etfs)\n",
    "df"
   ]
  }
 ],
 "metadata": {
  "colab": {
   "authorship_tag": "ABX9TyMmPDgPDlEQ9VJpxhthoipr",
   "provenance": []
  },
  "kernelspec": {
   "display_name": ".venv",
   "language": "python",
   "name": "python3"
  },
  "language_info": {
   "codemirror_mode": {
    "name": "ipython",
    "version": 3
   },
   "file_extension": ".py",
   "mimetype": "text/x-python",
   "name": "python",
   "nbconvert_exporter": "python",
   "pygments_lexer": "ipython3",
   "version": "3.13.7"
  }
 },
 "nbformat": 4,
 "nbformat_minor": 4
}
