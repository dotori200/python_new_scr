{
 "cells": [
  {
   "cell_type": "code",
   "execution_count": 53,
   "id": "092e2c87",
   "metadata": {},
   "outputs": [],
   "source": [
    "# Tensor\n",
    "# 데이터를 저장하는 다차원 배열 또는 컨테이너 (1차원 배열의 집합)\n",
    "# 딥러닝이 학습할 때 사용하는 자료구조\n",
    "# 미분 자동으로 계산\n",
    "# 0차원 텐서 : 스칼라 - 단일 데이터 (숫자)\n",
    "# 1치원 텐서(벡터) : 스칼라의 집합 (like 리스트)\n",
    "# 2차원 텐서(행렬) : 행과 열로 이루어진 데이터, 표데이터, 흑백 이미지\n",
    "# 3차원 텐서 : 컬러이미지 흑백이미지 + 채널정보(R G B)\n",
    "# 고차원 텐서 : 동영상 : 이미지 개수 x 가로 픽셀 x 세로 픽셀 x 채널 정보\n",
    "\n",
    "# 데이터의 표준 형식 : 일관된 숫자 형식\n",
    "# 효울적인 계산 : GPU 지원 -> 병렬연산에 유리\n",
    "# 딥러닝 프레임 워크 : 텐서 플로, 파이토치"
   ]
  },
  {
   "cell_type": "code",
   "execution_count": 54,
   "id": "797afa65",
   "metadata": {},
   "outputs": [
    {
     "name": "stdout",
     "output_type": "stream",
     "text": [
      "Requirement already satisfied: torch in c:\\anaconda\\lib\\site-packages (2.9.0)\n",
      "Requirement already satisfied: torchvision in c:\\anaconda\\lib\\site-packages (0.24.0)\n",
      "Requirement already satisfied: filelock in c:\\anaconda\\lib\\site-packages (from torch) (3.20.0)\n",
      "Requirement already satisfied: typing-extensions>=4.10.0 in c:\\anaconda\\lib\\site-packages (from torch) (4.12.2)\n",
      "Requirement already satisfied: sympy>=1.13.3 in c:\\anaconda\\lib\\site-packages (from torch) (1.14.0)\n",
      "Requirement already satisfied: networkx>=2.5.1 in c:\\anaconda\\lib\\site-packages (from torch) (3.5)\n",
      "Requirement already satisfied: jinja2 in c:\\anaconda\\lib\\site-packages (from torch) (3.1.6)\n",
      "Requirement already satisfied: fsspec>=0.8.5 in c:\\anaconda\\lib\\site-packages (from torch) (2025.9.0)\n",
      "Requirement already satisfied: setuptools in c:\\anaconda\\lib\\site-packages (from torch) (80.9.0)\n",
      "Requirement already satisfied: numpy in c:\\anaconda\\lib\\site-packages (from torchvision) (2.3.3)\n",
      "Requirement already satisfied: pillow!=8.3.*,>=5.3.0 in c:\\anaconda\\lib\\site-packages (from torchvision) (11.3.0)\n",
      "Requirement already satisfied: mpmath<1.4,>=1.1.0 in c:\\anaconda\\lib\\site-packages (from sympy>=1.13.3->torch) (1.3.0)\n",
      "Requirement already satisfied: MarkupSafe>=2.0 in c:\\anaconda\\lib\\site-packages (from jinja2->torch) (3.0.3)\n",
      "Note: you may need to restart the kernel to use updated packages.\n"
     ]
    }
   ],
   "source": [
    "%pip install torch torchvision"
   ]
  },
  {
   "cell_type": "code",
   "execution_count": 55,
   "id": "a9a36dbd",
   "metadata": {},
   "outputs": [],
   "source": [
    "# 기본 연산\n",
    "import torch\n",
    "\n",
    "# 빈 텐서 생성\n",
    "x = torch.empty(3,4)\n",
    "\n"
   ]
  },
  {
   "cell_type": "code",
   "execution_count": null,
   "id": "190089ae",
   "metadata": {},
   "outputs": [
    {
     "data": {
      "text/plain": [
       "tensor([[0.4006, 0.4182, 0.3997, 0.3845],\n",
       "        [0.7069, 0.5253, 0.5304, 0.8317],\n",
       "        [0.4574, 0.6263, 0.5375, 0.2509]])"
      ]
     },
     "execution_count": 56,
     "metadata": {},
     "output_type": "execute_result"
    }
   ],
   "source": [
    "# 랜덤 텐서\n",
    "x = torch.rand(3,4)\n",
    "x"
   ]
  },
  {
   "cell_type": "code",
   "execution_count": 57,
   "id": "efe0a5e4",
   "metadata": {},
   "outputs": [
    {
     "data": {
      "text/plain": [
       "tensor([[0, 0, 0, 0],\n",
       "        [0, 0, 0, 0],\n",
       "        [0, 0, 0, 0]])"
      ]
     },
     "execution_count": 57,
     "metadata": {},
     "output_type": "execute_result"
    }
   ],
   "source": [
    "# 0으로 텐서 초기화\n",
    "torch.zeros(3,4,dtype=torch.long)"
   ]
  },
  {
   "cell_type": "code",
   "execution_count": 58,
   "id": "9d0b851c",
   "metadata": {},
   "outputs": [
    {
     "data": {
      "text/plain": [
       "tensor([[1, 1, 1, 1],\n",
       "        [1, 1, 1, 1],\n",
       "        [1, 1, 1, 1]])"
      ]
     },
     "execution_count": 58,
     "metadata": {},
     "output_type": "execute_result"
    }
   ],
   "source": [
    "# 1로 채워진 텐서\n",
    "x = torch.ones(3,4,dtype=torch.long)\n",
    "x"
   ]
  },
  {
   "cell_type": "code",
   "execution_count": 59,
   "id": "6e1022c1",
   "metadata": {},
   "outputs": [
    {
     "name": "stdout",
     "output_type": "stream",
     "text": [
      "tensor([3.5000, 3.0000, 2.1000])\n",
      "[3.5 3.  2.1]\n"
     ]
    }
   ],
   "source": [
    "import numpy as np\n",
    "print(torch.tensor([3.5,3,2.1]))\n",
    "print(np.array([3.5,3,2.1]))\n"
   ]
  },
  {
   "cell_type": "code",
   "execution_count": 60,
   "id": "490ce5fc",
   "metadata": {},
   "outputs": [],
   "source": [
    "# 기존의 텐서를 기반으로 새로운 텐서 생성\n",
    "x = torch.ones(3,4)\n",
    "y = torch.randn"
   ]
  },
  {
   "cell_type": "code",
   "execution_count": 61,
   "id": "375116b3",
   "metadata": {},
   "outputs": [
    {
     "data": {
      "text/plain": [
       "(tensor([[0.8714, 0.5240, 0.4573, 0.9281],\n",
       "         [0.0361, 0.3801, 0.3456, 0.1783],\n",
       "         [0.7898, 0.7729, 0.0235, 0.8879]]),\n",
       " tensor([[0.7559, 0.1386, 0.9182, 0.5892],\n",
       "         [0.2228, 0.5001, 0.2909, 0.2855],\n",
       "         [0.5538, 0.6027, 0.3425, 0.5100]]),\n",
       " tensor([[1.6274, 0.6625, 1.3755, 1.5172],\n",
       "         [0.2589, 0.8801, 0.6364, 0.4638],\n",
       "         [1.3436, 1.3756, 0.3660, 1.3979]]))"
      ]
     },
     "execution_count": 61,
     "metadata": {},
     "output_type": "execute_result"
    }
   ],
   "source": [
    "# 텐서 연산\n",
    "import torch \n",
    "x = torch.rand(3,4)\n",
    "y = torch.rand(3,4)\n",
    "x, y, x+y"
   ]
  },
  {
   "cell_type": "code",
   "execution_count": 62,
   "id": "66616192",
   "metadata": {},
   "outputs": [
    {
     "data": {
      "text/plain": [
       "tensor([[1.6274, 0.6625, 1.3755, 1.5172],\n",
       "        [0.2589, 0.8801, 0.6364, 0.4638],\n",
       "        [1.3436, 1.3756, 0.3660, 1.3979]])"
      ]
     },
     "execution_count": 62,
     "metadata": {},
     "output_type": "execute_result"
    }
   ],
   "source": [
    "torch.add(x,y)"
   ]
  },
  {
   "cell_type": "code",
   "execution_count": 63,
   "id": "5345f1de",
   "metadata": {},
   "outputs": [
    {
     "data": {
      "text/plain": [
       "tensor([[1.6274, 0.6625, 1.3755, 1.5172],\n",
       "        [0.2589, 0.8801, 0.6364, 0.4638],\n",
       "        [1.3436, 1.3756, 0.3660, 1.3979]])"
      ]
     },
     "execution_count": 63,
     "metadata": {},
     "output_type": "execute_result"
    }
   ],
   "source": [
    "# in-place  y = y + x  <->  y += x\n",
    "y.add_(x)\n",
    "y\n"
   ]
  },
  {
   "cell_type": "code",
   "execution_count": null,
   "id": "6e399631",
   "metadata": {},
   "outputs": [
    {
     "data": {
      "text/plain": [
       "(tensor([[0.7577, 0.8318, 0.9351, 0.6669],\n",
       "         [0.5150, 0.2510, 0.0879, 0.8151],\n",
       "         [0.5199, 0.3962, 0.5945, 0.0257]]),\n",
       " tensor([[0.4296, 0.0363, 0.9907, 0.6686, 0.2381],\n",
       "         [0.8760, 0.4964, 0.0810, 0.7191, 0.9450],\n",
       "         [0.8421, 0.8107, 0.6139, 0.2449, 0.3297],\n",
       "         [0.0146, 0.5649, 0.9229, 0.6522, 0.1574]]),\n",
       " tensor([[1.8512, 1.5753, 2.0075, 1.7687, 1.3798],\n",
       "         [0.5269, 0.6750, 1.3367, 1.0779, 0.5171],\n",
       "         [1.0713, 0.7120, 0.9358, 0.7948, 0.6982]]))"
      ]
     },
     "execution_count": 64,
     "metadata": {},
     "output_type": "execute_result"
    }
   ],
   "source": [
    "# 행렬 곱셈\n",
    "x = torch.rand(3,4)\n",
    "y = torch.rand(4,5)\n",
    "x, y, torch.mm(x,y), x@y # 파이썬 3.5  x@y"
   ]
  },
  {
   "cell_type": "code",
   "execution_count": 65,
   "id": "53cea73d",
   "metadata": {},
   "outputs": [
    {
     "ename": "TypeError",
     "evalue": "tensor() missing 1 required positional arguments: \"data\"",
     "output_type": "error",
     "traceback": [
      "\u001b[31m---------------------------------------------------------------------------\u001b[39m",
      "\u001b[31mTypeError\u001b[39m                                 Traceback (most recent call last)",
      "\u001b[36mCell\u001b[39m\u001b[36m \u001b[39m\u001b[32mIn[65]\u001b[39m\u001b[32m, line 1\u001b[39m\n\u001b[32m----> \u001b[39m\u001b[32m1\u001b[39m x = \u001b[43mtorch\u001b[49m\u001b[43m.\u001b[49m\u001b[43mtensor\u001b[49m\u001b[43m \u001b[49m\u001b[43m(\u001b[49m\u001b[43m)\u001b[49m\n",
      "\u001b[31mTypeError\u001b[39m: tensor() missing 1 required positional arguments: \"data\""
     ]
    }
   ],
   "source": [
    "x = torch.tensor ()"
   ]
  },
  {
   "cell_type": "code",
   "execution_count": null,
   "id": "60ef90eb",
   "metadata": {},
   "outputs": [
    {
     "data": {
      "text/plain": [
       "(tensor(0.0924), 0.09239548444747925, torch.Tensor, float)"
      ]
     },
     "execution_count": 14,
     "metadata": {},
     "output_type": "execute_result"
    }
   ],
   "source": [
    "# 슬라이싱 가능\n",
    "x = torch.rand(4,5)\n",
    "x[1,1], x[1,1].item(), type(x[1,1]), type(x[1,1].item())"
   ]
  },
  {
   "cell_type": "code",
   "execution_count": null,
   "id": "c66cd664",
   "metadata": {},
   "outputs": [
    {
     "data": {
      "text/plain": [
       "(tensor([[0.9554, 0.6901, 0.2347, 0.3046],\n",
       "         [0.4956, 0.0228, 0.1977, 0.2341],\n",
       "         [0.0885, 0.8827, 0.5970, 0.1913],\n",
       "         [0.0076, 0.9549, 0.6417, 0.2774]]),\n",
       " tensor([0.9554, 0.6901, 0.2347, 0.3046, 0.4956, 0.0228, 0.1977, 0.2341, 0.0885,\n",
       "         0.8827, 0.5970, 0.1913, 0.0076, 0.9549, 0.6417, 0.2774]),\n",
       " torch.Size([4, 4]),\n",
       " torch.Size([16]))"
      ]
     },
     "execution_count": 15,
     "metadata": {},
     "output_type": "execute_result"
    }
   ],
   "source": [
    "# 텐서 크기 변경  reshape-> 명령어: view  / numpy 동일한 기능 = reshape\n",
    "import torch\n",
    "x = torch.rand(4,4)\n",
    "y = x.view(16)    # y = x.view(-1) --> 괄호에 -1 넣으면 \"자동계산\"\n",
    "x, y, x.shape, y.shape"
   ]
  },
  {
   "cell_type": "code",
   "execution_count": null,
   "id": "f0bff32d",
   "metadata": {},
   "outputs": [
    {
     "data": {
      "text/plain": [
       "tensor([[0.9554, 0.6901, 0.2347, 0.3046, 0.4956, 0.0228, 0.1977, 0.2341],\n",
       "        [0.0885, 0.8827, 0.5970, 0.1913, 0.0076, 0.9549, 0.6417, 0.2774]])"
      ]
     },
     "execution_count": 17,
     "metadata": {},
     "output_type": "execute_result"
    }
   ],
   "source": [
    "# x = 4x4 행렬\n",
    "# view = reshape (텐서 모양 변경)\n",
    "# size = shape (텐서 모양 확인)\n",
    "# 가독성 up  -  view, size 사용되었다는 것은 해당 자료구조가 텐서라는 것을 명시\n",
    "x.view(2,8) , x.size()   # = x.view(-1,8)  / 열이 8개면 행은 2개 여야만 하기에 -1로 자동계산 하도록 한다. "
   ]
  },
  {
   "cell_type": "code",
   "execution_count": null,
   "id": "3ede76db",
   "metadata": {},
   "outputs": [
    {
     "data": {
      "text/plain": [
       "array([1., 1., 1., 1., 1.], dtype=float32)"
      ]
     },
     "execution_count": 18,
     "metadata": {},
     "output_type": "execute_result"
    }
   ],
   "source": [
    "# 텐서 -> 넘파이\n",
    "import torch\n",
    "import numpy as np\n",
    "a = torch.ones(5)\n",
    "a.numpy()\n"
   ]
  },
  {
   "cell_type": "code",
   "execution_count": null,
   "id": "a6bf38c4",
   "metadata": {},
   "outputs": [
    {
     "data": {
      "text/plain": [
       "tensor([1, 2, 3, 4, 5])"
      ]
     },
     "execution_count": 19,
     "metadata": {},
     "output_type": "execute_result"
    }
   ],
   "source": [
    "# 넘파이 -> 텐서\n",
    "import torch\n",
    "import numpy as np\n",
    "a = np.array([1,2,3,4,5])\n",
    "torch.from_numpy(a)"
   ]
  },
  {
   "cell_type": "code",
   "execution_count": null,
   "id": "42d0f676",
   "metadata": {},
   "outputs": [
    {
     "data": {
      "text/plain": [
       "False"
      ]
     },
     "execution_count": 20,
     "metadata": {},
     "output_type": "execute_result"
    }
   ],
   "source": [
    "# GPU 사용\n",
    "import torch\n",
    "if torch.cuda.is_available():\n",
    "    device = torch.device('cuda')  # \"cuda = GPU\"\n",
    "    # 텐서들은 GPU에서 연산해야되기 때문에 GPU에서 생성\n",
    "    x = torch.ones(5, device=device)   # GPU\n",
    "    y = torch.ones(5)   # CPU\n",
    "    y = y.to(device)   # CPU -> GPU로 이동\n",
    "    z = x + y\n",
    "    print(f'GPU 연산결과 : {z}')\n",
    "    print(f'다시')\n",
    "\n",
    "\n",
    "# 연산은 같은 디바이스 (CPU 아니면 GPU 중 하나)에서 해야한다.\n",
    "\n"
   ]
  },
  {
   "cell_type": "code",
   "execution_count": null,
   "id": "4f6777f8",
   "metadata": {},
   "outputs": [],
   "source": [
    "# 행렬 연산 공식\n",
    "# 행렬의 곱\n",
    "# (x, y)*(x1, y1) --> y와 x1 값이 같아야 함.\n",
    "# 행렬곱의 결과 = (x, y1)\n",
    "\n",
    "# 텐서: 딥러닝을 위해 만든 자료구조 / 내부에 GPU 연산에 특화된 구조 / 일반적인 모양은 넘파이와 동일\n",
    "# 텐서는 GPU연산을 지원한다.\n"
   ]
  },
  {
   "cell_type": "code",
   "execution_count": null,
   "id": "0140f245",
   "metadata": {},
   "outputs": [],
   "source": [
    "# 자동 미분 (Autograd) : 매 계산과정마다 해당 계산과정의 미분값을 저장\n",
    "# 파이토치 - required_grad = True 로 설정하면, '계산 그래프'라는 형태로 기록 (동영상 녹화화 비슷한 원리)\n",
    "# .backword() 호출하면 이 과정을 거꾸로 되감으면서 각 단계의 미분값을 계산해 최종 기울기를 얻는다."
   ]
  },
  {
   "cell_type": "code",
   "execution_count": 69,
   "id": "28d76b91",
   "metadata": {},
   "outputs": [
    {
     "data": {
      "text/plain": [
       "(tensor([[1., 1.],\n",
       "         [1., 1.]], requires_grad=True),\n",
       " torch.Size([2, 2]))"
      ]
     },
     "execution_count": 69,
     "metadata": {},
     "output_type": "execute_result"
    }
   ],
   "source": [
    "x = torch.ones(2,2,requires_grad=True)\n",
    "x, x.size()"
   ]
  },
  {
   "cell_type": "code",
   "execution_count": 70,
   "id": "88e9e081",
   "metadata": {},
   "outputs": [
    {
     "data": {
      "text/plain": [
       "(tensor([[27., 27.],\n",
       "         [27., 27.]], grad_fn=<MulBackward0>),\n",
       " tensor(27., grad_fn=<MeanBackward0>))"
      ]
     },
     "execution_count": 70,
     "metadata": {},
     "output_type": "execute_result"
    }
   ],
   "source": [
    "y = x + 2  # --> y도 계산 그래프에 추가가 되는 것\n",
    "z = y*y*3\n",
    "out = z.mean()\n",
    "z, out\n"
   ]
  },
  {
   "cell_type": "code",
   "execution_count": 71,
   "id": "c4892845",
   "metadata": {},
   "outputs": [
    {
     "data": {
      "text/plain": [
       "tensor([[4.5000, 4.5000],\n",
       "        [4.5000, 4.5000]])"
      ]
     },
     "execution_count": 71,
     "metadata": {},
     "output_type": "execute_result"
    }
   ],
   "source": [
    "# 기울기 구하는 과정 : 역전파 --> 기울기 계산\n",
    "# 최종결과 out에서부터 시작 -> 계산그래프를 거꾸로 거슬러 올라가며 미분의 연쇄법칙을 사용해서 미분값 계산\n",
    "# out을 x에 대해 미분\n",
    "out.backward()\n",
    "x.grad"
   ]
  },
  {
   "cell_type": "code",
   "execution_count": null,
   "id": "56728175",
   "metadata": {},
   "outputs": [],
   "source": [
    "# out = 1/4(z1+z2+z3+z4)\n",
    "# z = 3y^2\n",
    "# y = x + 2\n",
    "# d-out/dxi = \n"
   ]
  },
  {
   "cell_type": "code",
   "execution_count": 1,
   "id": "096aad6e",
   "metadata": {},
   "outputs": [
    {
     "name": "stdout",
     "output_type": "stream",
     "text": [
      "tensor([-0.7985, -0.8802,  0.1383], requires_grad=True)\n",
      "y:tensor([-817.6631, -901.3126,  141.5908], grad_fn=<MulBackward0>)\n",
      "반복횟수:9\n",
      "x.grad : tensor([1.0240e+02, 1.0240e+03, 1.0240e-01])\n"
     ]
    }
   ],
   "source": [
    "# 기울기 제어\n",
    "# 역전파, torch.no_grad,  detach\n",
    "# required_grad = True 연산 추적\n",
    "import torch\n",
    "x = torch.randn(3, requires_grad=True)\n",
    "print(x)\n",
    "# y는 x로부터 연산 기록을 물려받음\n",
    "y = x*2\n",
    "y.data.norm()  # 노름 (유클리드 노름) : 벡터의 크기를 측정하는 방법 (원점으로부터 벡터까지의 거리)\n",
    "# 노름 -> 벡터 내 모든 요소를 각각 제곱하고 모두 더해서 결과에 제곱근 씌운 값\n",
    "# y의 실제데이터의 크기를 확인해서 반복\n",
    "i = 0\n",
    "while y.data.norm() < 1000 :\n",
    "    y = y*2\n",
    "    i += 1\n",
    "print(f'y:{y}')\n",
    "print(f'반복횟수:{i}')\n",
    "\n",
    "# 벡터에 대한 역전파(야코비안 행렬)\n",
    "# 벡터를 벡터로 미분 --> 결과 : 야코비안 행렬\n",
    "# pytorch는 전체 야코비안 행렬을 직접 계산하는 대신 \"야코비안-벡터\" 곱을 계산해서 메모리를 절약\n",
    "\n",
    "v = torch.tensor([0.1,1.0,0.0001], dtype=torch.float) \n",
    "y.backward(v)\n",
    "print(f'x.grad : {x.grad}')\n"
   ]
  },
  {
   "cell_type": "markdown",
   "id": "2e7dd0d8",
   "metadata": {},
   "source": [
    "'''\n",
    "스칼라 백워드  Scalar Backward : 역전파로 구하는 기울기가 하나일 때\n",
    "out.backward()\n",
    "최종점수가 숫자 하나 ex) 수학공부 1시간했을 때 최종점수에 몇 점의 영향을 줬는지\n",
    "최종 목표가 하나 (스칼라) 이기 때문에 각 원인(각 변수)의 기여도를 바로 계산\n",
    "\n",
    "벡터 백워드 Vector Backward : 기울기가 여러개 일 때\n",
    "y.backward(v)\n",
    "과목별 점수가 담긴 성적표(벡터) --> 공부시간이 성적에 얼마나 영향을 줬는지 물어보면 애매함 / 국어성적? 영어성적?\n",
    "가중치 또는 중요도를 알려주는 벡터 v = torch.tensor ([0.1,1.0,0.0001], dtype=torch.float)\n",
    "중요도를 반영해서 최종적으로 공부시간의 기여도를 확인\n",
    "'''"
   ]
  },
  {
   "cell_type": "code",
   "execution_count": null,
   "id": "e360c1cc",
   "metadata": {},
   "outputs": [
    {
     "ename": "SyntaxError",
     "evalue": "invalid syntax (1164155076.py, line 7)",
     "output_type": "error",
     "traceback": [
      "  \u001b[36mCell\u001b[39m\u001b[36m \u001b[39m\u001b[32mIn[2]\u001b[39m\u001b[32m, line 7\u001b[39m\n\u001b[31m    \u001b[39m\u001b[31m~~~\u001b[39m\n       ^\n\u001b[31mSyntaxError\u001b[39m\u001b[31m:\u001b[39m invalid syntax\n"
     ]
    }
   ],
   "source": [
    "# 각 학습을 진행하면서 도중에 모델의 성능 평가 필요  -->  기울기 계산 하면 안됌\n",
    "with torch.no_grad():\n",
    "    print (f'no_grad 내부 : {(x**2).requires_grad}')\n",
    "\n",
    "# .detach() 계산그래프에서 텐서를 분리\n",
    "print (f'detach ~~')\n",
    "~~~\n",
    "\n",
    "# 입력치 개수 = 가중치 개수  --> 행렬곱 계산\n"
   ]
  },
  {
   "cell_type": "code",
   "execution_count": null,
   "id": "d66cab43",
   "metadata": {},
   "outputs": [],
   "source": []
  }
 ],
 "metadata": {
  "kernelspec": {
   "display_name": "base",
   "language": "python",
   "name": "python3"
  },
  "language_info": {
   "codemirror_mode": {
    "name": "ipython",
    "version": 3
   },
   "file_extension": ".py",
   "mimetype": "text/x-python",
   "name": "python",
   "nbconvert_exporter": "python",
   "pygments_lexer": "ipython3",
   "version": "3.13.7"
  }
 },
 "nbformat": 4,
 "nbformat_minor": 5
}
